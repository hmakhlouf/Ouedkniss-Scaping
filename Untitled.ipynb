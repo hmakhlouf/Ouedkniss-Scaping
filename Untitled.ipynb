{
 "cells": [
  {
   "cell_type": "code",
   "execution_count": 24,
   "metadata": {},
   "outputs": [],
   "source": [
    "# Dependencies\n",
    "import pandas as pd\n",
    "from bs4 import BeautifulSoup\n",
    "import requests\n",
    "# from splinter import Browser\n",
    "from urllib.parse import urlsplit\n",
    "import os \n",
    "import time"
   ]
  },
  {
   "cell_type": "code",
   "execution_count": 25,
   "metadata": {},
   "outputs": [],
   "source": [
    "# path to chrome driver\n",
    "executable_path = {'executable_path': 'chromedriver.exe'}\n",
    "# browser = Browser('chrome', **executable_path, headless=False)"
   ]
  },
  {
   "cell_type": "code",
   "execution_count": 26,
   "metadata": {},
   "outputs": [
    {
     "name": "stdout",
     "output_type": "stream",
     "text": [
      "['https://www.ouedkniss.com/store/contact.php?id=2']\n"
     ]
    }
   ],
   "source": [
    "#create list of urls \n",
    "x = [2]   #range(1, 20, 1)   #[1,2,3,4,5]\n",
    "urls = []\n",
    "for y in x:\n",
    "    urlss = 'https://www.ouedkniss.com/store/contact.php?id='+ str(y)\n",
    "#     print(urlss)\n",
    "    \n",
    "    webs = urls.append(urlss)\n",
    "\n",
    "print (urls)"
   ]
  },
  {
   "cell_type": "code",
   "execution_count": 27,
   "metadata": {},
   "outputs": [
    {
     "name": "stdout",
     "output_type": "stream",
     "text": [
      "<div id=\"footer_store\">\n",
      "<span id=\"store_name\">informatique </span>\n",
      "<span class=\"store_info\">\n",
      "\t\t\t\t\t\t\tkouba - Kouba Alger</span>\n",
      "<span class=\"store_info\">Téléphone : 0771882183</span> <span class=\"store_info\">Email : garididjamel@gmail.com</span>\n",
      "</div>\n",
      " \n",
      " \n",
      "Store # : 1\n",
      "----------------------------------------\n",
      "Store Name/Type : informatique \n",
      "Address : kouba - Kouba Alger\n",
      "Phone :   0771882183\n",
      "Email :  garididjamel@gmail.com\n"
     ]
    }
   ],
   "source": [
    "Name = []\n",
    "Address = []\n",
    "Phone = []\n",
    "Email = []\n",
    "\n",
    "record = 0\n",
    "\n",
    "# Retrieve page with the requests module\n",
    "for url in urls:\n",
    "    response = requests.get(url)\n",
    "    # Create BeautifulSoup object; parse with 'html.parser\n",
    "    soup = BeautifulSoup(response.text, 'html.parser')\n",
    "    # Examine the results, then determine element that contains sought info\n",
    "    # print(soup.prettify())\n",
    "    results = soup.find(\"div\",id = \"footer_store\")\n",
    "#     print (results)\n",
    "#     try:\n",
    "#         store_phone = results.find_all('span', class_ = 'store_info')[1].text.replace('Téléphone :','')\n",
    "#         print(\"Phone :\"+ store_phone)\n",
    "#     except: #(KeyError, IndexError):\n",
    "#         print(\"n/a\")\n",
    "    \n",
    "    \n",
    "    print(results)\n",
    "    record = record+1\n",
    "    print(\" \")\n",
    "    print(\" \")\n",
    "    print(\"Store # : \"+ str(record))\n",
    "    print(\"----------------------------------------\")\n",
    "    \n",
    "    try:\n",
    "        store_name = results.find('span', id = 'store_name').text\n",
    "        print(\"Store Name/Type\" +\" : \" + store_name)\n",
    "    except:\n",
    "#         store_name = str(\"n/a\")\n",
    "        print(\"n/a\") \n",
    "    \n",
    "    \n",
    "    try:\n",
    "        store_address = results.find_all('span', class_ = 'store_info')[0].text.replace('\\n\\t\\t\\t\\t\\t\\t\\t','').replace('\\n', '')\n",
    "        print('Address : ' + store_address)\n",
    "    except: #(KeyError, IndexError):\n",
    "        store_address = str(\"n/a\")\n",
    "        print(\"Address: n/a\")  \n",
    "    \n",
    "    \n",
    "    try:\n",
    "        store_phone = results.find_all('span', class_ = 'store_info')[1].text.replace('Téléphone :','')\n",
    "        print(\"Phone :  \"+ store_phone)\n",
    "    except: #(KeyError, IndexError):\n",
    "        store_phone = str(\"\")\n",
    "        print(\"Phone: n/a\")\n",
    "       \n",
    "    \n",
    "    try:\n",
    "        store_email = results.find_all('span', class_ = 'store_info')[2].text.replace('Email :','')\n",
    "        print(\"Email : \"+ store_email)\n",
    "    except: #(KeyError, IndexError):\n",
    "        store_email = str(\"\")\n",
    "        print(\"Email: n/a\")\n",
    "    \n",
    "    \n",
    "\n",
    "#append the results to lists in order to create a dateframe\n",
    "    \n",
    "    Name.append(store_name)\n",
    "    Address.append(store_address)\n",
    "    Phone.append(store_phone)\n",
    "    Email.append(store_email)"
   ]
  },
  {
   "cell_type": "code",
   "execution_count": 23,
   "metadata": {},
   "outputs": [
    {
     "name": "stdout",
     "output_type": "stream",
     "text": [
      "<div id=\"footer_store\">\n",
      "<span id=\"store_name\">informatique </span>\n",
      "<span class=\"store_info\">\n",
      "\t\t\t\t\t\t\tkouba - Kouba Alger</span>\n",
      "<span class=\"store_info\">Téléphone : 0771882183</span> <span class=\"store_info\">Email : garididjamel@gmail.com</span>\n",
      "</div>\n",
      " \n",
      " \n",
      "Store # : 1\n",
      "----------------------------------------\n",
      "Store Name/Type : informatique \n",
      "Address : kouba - Kouba Alger\n",
      "Phone :   0771882183\n",
      "Email :  garididjamel@gmail.com\n"
     ]
    }
   ],
   "source": []
  },
  {
   "cell_type": "code",
   "execution_count": null,
   "metadata": {},
   "outputs": [],
   "source": [
    "# 1. lanch the program to get evrything \n",
    "# 2.create dataframe for all the data \n",
    "# 3.select rows that contains the word fax and facebook page in the email column \n",
    "# 4.convert the index column to an array \n",
    "# 5.iterate the array to scrape the missing data "
   ]
  }
 ],
 "metadata": {
  "kernelspec": {
   "display_name": "Python 3",
   "language": "python",
   "name": "python3"
  },
  "language_info": {
   "codemirror_mode": {
    "name": "ipython",
    "version": 3
   },
   "file_extension": ".py",
   "mimetype": "text/x-python",
   "name": "python",
   "nbconvert_exporter": "python",
   "pygments_lexer": "ipython3",
   "version": "3.7.2"
  }
 },
 "nbformat": 4,
 "nbformat_minor": 2
}
